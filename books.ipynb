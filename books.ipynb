{
 "cells": [
  {
   "cell_type": "code",
   "execution_count": 13,
   "metadata": {},
   "outputs": [
    {
     "data": {
      "text/plain": [
       "(17272, 8)"
      ]
     },
     "execution_count": 13,
     "metadata": {},
     "output_type": "execute_result"
    }
   ],
   "source": [
    "import pandas as pd\n",
    "\n",
    "# Read the CSV file into a dataframe\n",
    "df = pd.read_csv('GoodReads_100k_books.csv', on_bad_lines = 'skip')\n",
    "\n",
    "# reduce size of dataframe\n",
    "# and remove columns and rows with invalid or unneeded data\n",
    "df = df.truncate(before =0 , after= 22000)\n",
    "df = df.drop(columns=[\"bookformat\", \"img\", \"isbn13\", \"link\", \"reviews\"])\n",
    "df = df.dropna()\n",
    "df.shape"
   ]
  },
  {
   "cell_type": "code",
   "execution_count": 14,
   "metadata": {},
   "outputs": [],
   "source": [
    "import pandas as pd\n",
    "\n",
    "# Convert the dataframe to JSON\n",
    "json_data = df.to_json(orient='records')\n",
    "\n",
    "# Write the JSON data to a file\n",
    "with open('books.json', 'w') as file:\n",
    "    file.write(json_data)\n"
   ]
  }
 ],
 "metadata": {
  "kernelspec": {
   "display_name": "Python 3",
   "language": "python",
   "name": "python3"
  },
  "language_info": {
   "codemirror_mode": {
    "name": "ipython",
    "version": 3
   },
   "file_extension": ".py",
   "mimetype": "text/x-python",
   "name": "python",
   "nbconvert_exporter": "python",
   "pygments_lexer": "ipython3",
   "version": "3.10.7"
  },
  "orig_nbformat": 4
 },
 "nbformat": 4,
 "nbformat_minor": 2
}
